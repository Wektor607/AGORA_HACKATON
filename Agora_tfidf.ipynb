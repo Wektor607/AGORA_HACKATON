{
  "cells": [
    {
      "cell_type": "code",
      "execution_count": 4,
      "id": "b7ca28c5",
      "metadata": {
        "colab": {
          "base_uri": "https://localhost:8080/",
          "height": 520
        },
        "id": "b7ca28c5",
        "outputId": "09f0803b-43ce-4a76-e6e4-f224a22efd6c"
      },
      "outputs": [
        {
          "output_type": "execute_result",
          "data": {
            "text/plain": [
              "            product_id                                               name  \\\n",
              "0     0007302f2fe1d54d  Классическая сплит-система ROYAL CLIMA PANDORA...   \n",
              "1     000740b6c1cc763e  Смартфон Xiaomi Redmi Note 10S NFC 6/128 ГБ RU...   \n",
              "2     0039af5efceac4ab                             Холодильник Бирюса 118   \n",
              "3     004f2158acb8165c            ASUS TUF-GTX1660S-O6G-GAMING Видеокарта   \n",
              "4     005cddb29e1677ec  Кофемашина Saeco Lirika One Touch Cappuccino, ...   \n",
              "...                ...                                                ...   \n",
              "3246  ff5da4be6fa60c4b  15.6\" Ноутбук Lenovo IdeaPad Gaming 315IHU6 19...   \n",
              "3247  ff66532467a02652  Моющий робот-пылесос для дома и квартиры Xiaom...   \n",
              "3248  ff75ade409f4da7e      Huawei Умный браслет Band 7, графитово-черный   \n",
              "3249  ffb770de0c2feafc  Видеокарта Gigabyte GV-R675XTGAMING OC-12GD 12...   \n",
              "3250  ffc089be167b95b2                   Водонагреватель edisson er 100 v   \n",
              "\n",
              "                                                  props  is_reference  \\\n",
              "0     [Класс  энергоэффективности\\tA, Мощность  конд...         False   \n",
              "1     [Экран\\t6.43\" (2400x1080) AMOLED 60 Гц, 4 каме...          True   \n",
              "2                 [Мощность  замораживания  4 кг/сутки]         False   \n",
              "3     [Объем  видеопамяти\\t6144 МБ, Частота  памяти\\...         False   \n",
              "4     [Приготовление  капучино\\tавтоматическое, Мате...         False   \n",
              "...                                                 ...           ...   \n",
              "3246  [Видеокарта\\tNVIDIA GeForce RTX 3050 4 ГБ, Вре...          True   \n",
              "3247  [Объем контейнера для воды\\t0.27 л, ШхГхВ\\t35....         False   \n",
              "3248     [Модификация\\tGPS, Материал  корпуса\\tпластик]         False   \n",
              "3249                             [Комплектация\\tRetail]         False   \n",
              "3250  [Максимальная температура воды\\t75 °С, Покрыти...         False   \n",
              "\n",
              "          reference_id  \n",
              "0     f497219eb0077f84  \n",
              "1                 None  \n",
              "2     28085e941cde1639  \n",
              "3     9afe55bb4bf1e8a8  \n",
              "4     1f21918ceb5d345c  \n",
              "...                ...  \n",
              "3246              None  \n",
              "3247  d4ebc4a26700d5e0  \n",
              "3248  177ccb3b84125efa  \n",
              "3249  a07d5538ebec8e36  \n",
              "3250  7810daae8a7e7fba  \n",
              "\n",
              "[3251 rows x 5 columns]"
            ],
            "text/html": [
              "\n",
              "  <div id=\"df-cdafefe7-6adf-4de0-a2e9-34e438ae2094\">\n",
              "    <div class=\"colab-df-container\">\n",
              "      <div>\n",
              "<style scoped>\n",
              "    .dataframe tbody tr th:only-of-type {\n",
              "        vertical-align: middle;\n",
              "    }\n",
              "\n",
              "    .dataframe tbody tr th {\n",
              "        vertical-align: top;\n",
              "    }\n",
              "\n",
              "    .dataframe thead th {\n",
              "        text-align: right;\n",
              "    }\n",
              "</style>\n",
              "<table border=\"1\" class=\"dataframe\">\n",
              "  <thead>\n",
              "    <tr style=\"text-align: right;\">\n",
              "      <th></th>\n",
              "      <th>product_id</th>\n",
              "      <th>name</th>\n",
              "      <th>props</th>\n",
              "      <th>is_reference</th>\n",
              "      <th>reference_id</th>\n",
              "    </tr>\n",
              "  </thead>\n",
              "  <tbody>\n",
              "    <tr>\n",
              "      <th>0</th>\n",
              "      <td>0007302f2fe1d54d</td>\n",
              "      <td>Классическая сплит-система ROYAL CLIMA PANDORA...</td>\n",
              "      <td>[Класс  энергоэффективности\\tA, Мощность  конд...</td>\n",
              "      <td>False</td>\n",
              "      <td>f497219eb0077f84</td>\n",
              "    </tr>\n",
              "    <tr>\n",
              "      <th>1</th>\n",
              "      <td>000740b6c1cc763e</td>\n",
              "      <td>Смартфон Xiaomi Redmi Note 10S NFC 6/128 ГБ RU...</td>\n",
              "      <td>[Экран\\t6.43\" (2400x1080) AMOLED 60 Гц, 4 каме...</td>\n",
              "      <td>True</td>\n",
              "      <td>None</td>\n",
              "    </tr>\n",
              "    <tr>\n",
              "      <th>2</th>\n",
              "      <td>0039af5efceac4ab</td>\n",
              "      <td>Холодильник Бирюса 118</td>\n",
              "      <td>[Мощность  замораживания  4 кг/сутки]</td>\n",
              "      <td>False</td>\n",
              "      <td>28085e941cde1639</td>\n",
              "    </tr>\n",
              "    <tr>\n",
              "      <th>3</th>\n",
              "      <td>004f2158acb8165c</td>\n",
              "      <td>ASUS TUF-GTX1660S-O6G-GAMING Видеокарта</td>\n",
              "      <td>[Объем  видеопамяти\\t6144 МБ, Частота  памяти\\...</td>\n",
              "      <td>False</td>\n",
              "      <td>9afe55bb4bf1e8a8</td>\n",
              "    </tr>\n",
              "    <tr>\n",
              "      <th>4</th>\n",
              "      <td>005cddb29e1677ec</td>\n",
              "      <td>Кофемашина Saeco Lirika One Touch Cappuccino, ...</td>\n",
              "      <td>[Приготовление  капучино\\tавтоматическое, Мате...</td>\n",
              "      <td>False</td>\n",
              "      <td>1f21918ceb5d345c</td>\n",
              "    </tr>\n",
              "    <tr>\n",
              "      <th>...</th>\n",
              "      <td>...</td>\n",
              "      <td>...</td>\n",
              "      <td>...</td>\n",
              "      <td>...</td>\n",
              "      <td>...</td>\n",
              "    </tr>\n",
              "    <tr>\n",
              "      <th>3246</th>\n",
              "      <td>ff5da4be6fa60c4b</td>\n",
              "      <td>15.6\" Ноутбук Lenovo IdeaPad Gaming 315IHU6 19...</td>\n",
              "      <td>[Видеокарта\\tNVIDIA GeForce RTX 3050 4 ГБ, Вре...</td>\n",
              "      <td>True</td>\n",
              "      <td>None</td>\n",
              "    </tr>\n",
              "    <tr>\n",
              "      <th>3247</th>\n",
              "      <td>ff66532467a02652</td>\n",
              "      <td>Моющий робот-пылесос для дома и квартиры Xiaom...</td>\n",
              "      <td>[Объем контейнера для воды\\t0.27 л, ШхГхВ\\t35....</td>\n",
              "      <td>False</td>\n",
              "      <td>d4ebc4a26700d5e0</td>\n",
              "    </tr>\n",
              "    <tr>\n",
              "      <th>3248</th>\n",
              "      <td>ff75ade409f4da7e</td>\n",
              "      <td>Huawei Умный браслет Band 7, графитово-черный</td>\n",
              "      <td>[Модификация\\tGPS, Материал  корпуса\\tпластик]</td>\n",
              "      <td>False</td>\n",
              "      <td>177ccb3b84125efa</td>\n",
              "    </tr>\n",
              "    <tr>\n",
              "      <th>3249</th>\n",
              "      <td>ffb770de0c2feafc</td>\n",
              "      <td>Видеокарта Gigabyte GV-R675XTGAMING OC-12GD 12...</td>\n",
              "      <td>[Комплектация\\tRetail]</td>\n",
              "      <td>False</td>\n",
              "      <td>a07d5538ebec8e36</td>\n",
              "    </tr>\n",
              "    <tr>\n",
              "      <th>3250</th>\n",
              "      <td>ffc089be167b95b2</td>\n",
              "      <td>Водонагреватель edisson er 100 v</td>\n",
              "      <td>[Максимальная температура воды\\t75 °С, Покрыти...</td>\n",
              "      <td>False</td>\n",
              "      <td>7810daae8a7e7fba</td>\n",
              "    </tr>\n",
              "  </tbody>\n",
              "</table>\n",
              "<p>3251 rows × 5 columns</p>\n",
              "</div>\n",
              "      <button class=\"colab-df-convert\" onclick=\"convertToInteractive('df-cdafefe7-6adf-4de0-a2e9-34e438ae2094')\"\n",
              "              title=\"Convert this dataframe to an interactive table.\"\n",
              "              style=\"display:none;\">\n",
              "        \n",
              "  <svg xmlns=\"http://www.w3.org/2000/svg\" height=\"24px\"viewBox=\"0 0 24 24\"\n",
              "       width=\"24px\">\n",
              "    <path d=\"M0 0h24v24H0V0z\" fill=\"none\"/>\n",
              "    <path d=\"M18.56 5.44l.94 2.06.94-2.06 2.06-.94-2.06-.94-.94-2.06-.94 2.06-2.06.94zm-11 1L8.5 8.5l.94-2.06 2.06-.94-2.06-.94L8.5 2.5l-.94 2.06-2.06.94zm10 10l.94 2.06.94-2.06 2.06-.94-2.06-.94-.94-2.06-.94 2.06-2.06.94z\"/><path d=\"M17.41 7.96l-1.37-1.37c-.4-.4-.92-.59-1.43-.59-.52 0-1.04.2-1.43.59L10.3 9.45l-7.72 7.72c-.78.78-.78 2.05 0 2.83L4 21.41c.39.39.9.59 1.41.59.51 0 1.02-.2 1.41-.59l7.78-7.78 2.81-2.81c.8-.78.8-2.07 0-2.86zM5.41 20L4 18.59l7.72-7.72 1.47 1.35L5.41 20z\"/>\n",
              "  </svg>\n",
              "      </button>\n",
              "      \n",
              "  <style>\n",
              "    .colab-df-container {\n",
              "      display:flex;\n",
              "      flex-wrap:wrap;\n",
              "      gap: 12px;\n",
              "    }\n",
              "\n",
              "    .colab-df-convert {\n",
              "      background-color: #E8F0FE;\n",
              "      border: none;\n",
              "      border-radius: 50%;\n",
              "      cursor: pointer;\n",
              "      display: none;\n",
              "      fill: #1967D2;\n",
              "      height: 32px;\n",
              "      padding: 0 0 0 0;\n",
              "      width: 32px;\n",
              "    }\n",
              "\n",
              "    .colab-df-convert:hover {\n",
              "      background-color: #E2EBFA;\n",
              "      box-shadow: 0px 1px 2px rgba(60, 64, 67, 0.3), 0px 1px 3px 1px rgba(60, 64, 67, 0.15);\n",
              "      fill: #174EA6;\n",
              "    }\n",
              "\n",
              "    [theme=dark] .colab-df-convert {\n",
              "      background-color: #3B4455;\n",
              "      fill: #D2E3FC;\n",
              "    }\n",
              "\n",
              "    [theme=dark] .colab-df-convert:hover {\n",
              "      background-color: #434B5C;\n",
              "      box-shadow: 0px 1px 3px 1px rgba(0, 0, 0, 0.15);\n",
              "      filter: drop-shadow(0px 1px 2px rgba(0, 0, 0, 0.3));\n",
              "      fill: #FFFFFF;\n",
              "    }\n",
              "  </style>\n",
              "\n",
              "      <script>\n",
              "        const buttonEl =\n",
              "          document.querySelector('#df-cdafefe7-6adf-4de0-a2e9-34e438ae2094 button.colab-df-convert');\n",
              "        buttonEl.style.display =\n",
              "          google.colab.kernel.accessAllowed ? 'block' : 'none';\n",
              "\n",
              "        async function convertToInteractive(key) {\n",
              "          const element = document.querySelector('#df-cdafefe7-6adf-4de0-a2e9-34e438ae2094');\n",
              "          const dataTable =\n",
              "            await google.colab.kernel.invokeFunction('convertToInteractive',\n",
              "                                                     [key], {});\n",
              "          if (!dataTable) return;\n",
              "\n",
              "          const docLinkHtml = 'Like what you see? Visit the ' +\n",
              "            '<a target=\"_blank\" href=https://colab.research.google.com/notebooks/data_table.ipynb>data table notebook</a>'\n",
              "            + ' to learn more about interactive tables.';\n",
              "          element.innerHTML = '';\n",
              "          dataTable['output_type'] = 'display_data';\n",
              "          await google.colab.output.renderOutput(dataTable, element);\n",
              "          const docLink = document.createElement('div');\n",
              "          docLink.innerHTML = docLinkHtml;\n",
              "          element.appendChild(docLink);\n",
              "        }\n",
              "      </script>\n",
              "    </div>\n",
              "  </div>\n",
              "  "
            ]
          },
          "metadata": {},
          "execution_count": 4
        }
      ],
      "source": [
        "import pandas as pd\n",
        "import numpy as np\n",
        "agora_data = pd.read_json('agora_hack_products.json')\n",
        "agora_data"
      ]
    },
    {
      "cell_type": "markdown",
      "source": [
        "## деление датасета на эталоны и товары"
      ],
      "metadata": {
        "id": "KxQmv1GQqB4h"
      },
      "id": "KxQmv1GQqB4h"
    },
    {
      "cell_type": "code",
      "execution_count": 5,
      "id": "012ea7a4",
      "metadata": {
        "id": "012ea7a4"
      },
      "outputs": [],
      "source": [
        "agora_data_goods = agora_data[agora_data['is_reference'] == False]\n",
        "agora_data_prime = agora_data[agora_data['is_reference'] == True]"
      ]
    },
    {
      "cell_type": "markdown",
      "source": [
        "## сколько товаров относится к разным эталонам"
      ],
      "metadata": {
        "id": "N_RY3tuoqKa8"
      },
      "id": "N_RY3tuoqKa8"
    },
    {
      "cell_type": "code",
      "execution_count": 6,
      "id": "30830d8a",
      "metadata": {
        "colab": {
          "base_uri": "https://localhost:8080/",
          "height": 282
        },
        "id": "30830d8a",
        "outputId": "3dd7ddbd-edff-4b4c-f65b-62b728d173e3"
      },
      "outputs": [
        {
          "output_type": "execute_result",
          "data": {
            "text/plain": [
              "<matplotlib.axes._subplots.AxesSubplot at 0x7f33c0bb85d0>"
            ]
          },
          "metadata": {},
          "execution_count": 6
        },
        {
          "output_type": "display_data",
          "data": {
            "text/plain": [
              "<Figure size 432x288 with 1 Axes>"
            ],
            "image/png": "[encoded data removed]"
          },
          "metadata": {
            "needs_background": "light"
          }
        }
      ],
      "source": [
        "agora_data_goods['reference_id'].value_counts().hist()"
      ]
    },
    {
      "cell_type": "code",
      "execution_count": 11,
      "id": "1f5b266e",
      "metadata": {
        "id": "1f5b266e"
      },
      "outputs": [],
      "source": [
        "X = []\n",
        "y = []\n",
        "for index, row in agora_data_goods.iterrows():\n",
        "    tmp = row['name'] + ' ' + ' '.join(row['props']).replace(\"\\t\", \" \")\n",
        "    X.append(tmp)\n",
        "    y.append(row.reference_id)\n",
        "X = np.array(X)\n",
        "y = np.array(y)"
      ]
    },
    {
      "cell_type": "code",
      "execution_count": 28,
      "id": "afad74eb",
      "metadata": {
        "id": "afad74eb"
      },
      "outputs": [],
      "source": [
        "from sklearn.model_selection import train_test_split\n",
        "X_train, X_test, y_train, y_test = train_test_split(X, y, test_size = 0.2, random_state = 42)"
      ]
    },
    {
      "cell_type": "markdown",
      "source": [
        "## векторизуем фичи"
      ],
      "metadata": {
        "id": "2LUdhQf3qbJq"
      },
      "id": "2LUdhQf3qbJq"
    },
    {
      "cell_type": "code",
      "execution_count": 29,
      "id": "83dca402",
      "metadata": {
        "id": "83dca402"
      },
      "outputs": [],
      "source": [
        "from sklearn.feature_extraction.text import TfidfVectorizer\n",
        "scaler = TfidfVectorizer()\n",
        "scaler.fit(X_train)\n",
        "X_train_vec = scaler.transform(X_train)\n",
        "X_test_vec = scaler.transform(X_test)"
      ]
    },
    {
      "cell_type": "markdown",
      "source": [
        "## к ближайших соседей"
      ],
      "metadata": {
        "id": "EvFIOgEdngQS"
      },
      "id": "EvFIOgEdngQS"
    },
    {
      "cell_type": "code",
      "execution_count": 13,
      "id": "7a42b845",
      "metadata": {
        "colab": {
          "base_uri": "https://localhost:8080/",
          "height": 235
        },
        "id": "7a42b845",
        "outputId": "1b7fbd11-7f6f-492b-83fb-aa2838406021"
      },
      "outputs": [
        {
          "output_type": "error",
          "ename": "NameError",
          "evalue": "ignored",
          "traceback": [
            "\u001b[0;31m---------------------------------------------------------------------------\u001b[0m",
            "\u001b[0;31mNameError\u001b[0m                                 Traceback (most recent call last)",
            "\u001b[0;32m<ipython-input-13-0092ba9272bb>\u001b[0m in \u001b[0;36m<module>\u001b[0;34m\u001b[0m\n\u001b[1;32m      3\u001b[0m \u001b[0;34m\u001b[0m\u001b[0m\n\u001b[1;32m      4\u001b[0m \u001b[0mneigh\u001b[0m \u001b[0;34m=\u001b[0m \u001b[0mneighbors\u001b[0m\u001b[0;34m.\u001b[0m\u001b[0mKNeighborsClassifier\u001b[0m\u001b[0;34m(\u001b[0m\u001b[0mn_neighbors\u001b[0m\u001b[0;34m=\u001b[0m\u001b[0;36m5\u001b[0m\u001b[0;34m,\u001b[0m \u001b[0mmetric\u001b[0m\u001b[0;34m=\u001b[0m\u001b[0;34m'cosine'\u001b[0m\u001b[0;34m)\u001b[0m\u001b[0;34m\u001b[0m\u001b[0;34m\u001b[0m\u001b[0m\n\u001b[0;32m----> 5\u001b[0;31m \u001b[0mneigh\u001b[0m\u001b[0;34m.\u001b[0m\u001b[0mfit\u001b[0m\u001b[0;34m(\u001b[0m\u001b[0mX_train_vec\u001b[0m\u001b[0;34m,\u001b[0m \u001b[0my_train\u001b[0m\u001b[0;34m)\u001b[0m\u001b[0;34m\u001b[0m\u001b[0;34m\u001b[0m\u001b[0m\n\u001b[0m\u001b[1;32m      6\u001b[0m \u001b[0mans\u001b[0m \u001b[0;34m=\u001b[0m \u001b[0mneigh\u001b[0m\u001b[0;34m.\u001b[0m\u001b[0mpredict\u001b[0m\u001b[0;34m(\u001b[0m\u001b[0mX_test_vec\u001b[0m\u001b[0;34m)\u001b[0m\u001b[0;34m\u001b[0m\u001b[0;34m\u001b[0m\u001b[0m\n\u001b[1;32m      7\u001b[0m \u001b[0;34m\u001b[0m\u001b[0m\n",
            "\u001b[0;31mNameError\u001b[0m: name 'X_train_vec' is not defined"
          ]
        }
      ],
      "source": [
        "from sklearn import neighbors\n",
        "from sklearn.metrics import accuracy_score\n",
        "\n",
        "neigh = neighbors.KNeighborsClassifier(n_neighbors=5, metric='cosine')\n",
        "neigh.fit(X_train_vec, y_train)\n",
        "ans = neigh.predict(X_test_vec)\n",
        "\n",
        "accuracy_score(y_test, ans)"
      ]
    },
    {
      "cell_type": "markdown",
      "source": [
        "## дефолтный случайный лес"
      ],
      "metadata": {
        "id": "lQljS4BJndRT"
      },
      "id": "lQljS4BJndRT"
    },
    {
      "cell_type": "code",
      "execution_count": 31,
      "id": "6f55b08b",
      "metadata": {
        "colab": {
          "base_uri": "https://localhost:8080/"
        },
        "id": "6f55b08b",
        "outputId": "e72a2525-3b7b-42e1-aa85-cdd93e34498a"
      },
      "outputs": [
        {
          "output_type": "execute_result",
          "data": {
            "text/plain": [
              "0.8453237410071942"
            ]
          },
          "metadata": {},
          "execution_count": 31
        }
      ],
      "source": [
        "from sklearn.ensemble import RandomForestClassifier\n",
        "from sklearn.metrics import accuracy_score\n",
        "\n",
        "forest = RandomForestClassifier()\n",
        "forest.fit(X_train_vec, y_train)\n",
        "ans = forest.predict(X_test_vec)\n",
        "\n",
        "accuracy_score(y_test, ans)"
      ]
    },
    {
      "cell_type": "markdown",
      "source": [
        "## подбор параметров леса"
      ],
      "metadata": {
        "id": "u6xu-ySUnjIM"
      },
      "id": "u6xu-ySUnjIM"
    },
    {
      "cell_type": "code",
      "source": [
        "from sklearn.model_selection import RandomizedSearchCV\n",
        "forest = RandomForestClassifier()\n",
        "n_estimators = [int(x) for x in np.linspace(start = 100, stop = 1000, num = 10)]\n",
        "max_features = ['log2', 'sqrt']\n",
        "min_samples_split = [int(x) for x in np.linspace(start = 2, stop = 50, num = 10)]\n",
        "min_samples_leaf = [int(x) for x in np.linspace(start = 2, stop = 50, num = 10)]\n",
        "bootstrap = [True, False]\n",
        "param_dist = {'n_estimators': n_estimators,\n",
        "               'max_features': max_features,\n",
        "               'min_samples_split': min_samples_split,\n",
        "               'min_samples_leaf': min_samples_leaf,\n",
        "               'bootstrap': bootstrap}\n",
        "rs = RandomizedSearchCV(forest,\n",
        "                        param_dist, \n",
        "                        n_iter = 100, \n",
        "                        cv = 3, \n",
        "                        verbose = 1, \n",
        "                        n_jobs=-1, \n",
        "                        random_state=0)\n",
        "rs.fit(X_train_vec, y_train)\n",
        "rs.best_params_"
      ],
      "metadata": {
        "colab": {
          "base_uri": "https://localhost:8080/"
        },
        "id": "jfQxsYivXmOs",
        "outputId": "04502360-95f0-4c05-8680-36abb0a8a46d"
      },
      "id": "jfQxsYivXmOs",
      "execution_count": 32,
      "outputs": [
        {
          "output_type": "stream",
          "name": "stdout",
          "text": [
            "Fitting 3 folds for each of 100 candidates, totalling 300 fits\n"
          ]
        },
        {
          "output_type": "stream",
          "name": "stderr",
          "text": [
            "/usr/local/lib/python3.7/dist-packages/sklearn/model_selection/_split.py:680: UserWarning: The least populated class in y has only 1 members, which is less than n_splits=3.\n",
            "  UserWarning,\n",
            "/usr/local/lib/python3.7/dist-packages/joblib/externals/loky/process_executor.py:705: UserWarning: A worker stopped while some jobs were given to the executor. This can be caused by a too short worker timeout or by a memory leak.\n",
            "  \"timeout or by a memory leak.\", UserWarning\n"
          ]
        },
        {
          "output_type": "execute_result",
          "data": {
            "text/plain": [
              "{'n_estimators': 800,\n",
              " 'min_samples_split': 12,\n",
              " 'min_samples_leaf': 2,\n",
              " 'max_features': 'sqrt',\n",
              " 'bootstrap': False}"
            ]
          },
          "metadata": {},
          "execution_count": 32
        }
      ]
    },
    {
      "cell_type": "code",
      "source": [
        "est = rs.best_estimator_\n",
        "est.fit(X_train_vec, y_train)\n",
        "ans = est.predict(X_test_vec)\n",
        "\n",
        "accuracy_score(y_test, ans)"
      ],
      "metadata": {
        "colab": {
          "base_uri": "https://localhost:8080/"
        },
        "id": "86PHw4UBY6YD",
        "outputId": "93427151-7bed-4082-f70f-abbecd2f8684"
      },
      "id": "86PHw4UBY6YD",
      "execution_count": 33,
      "outputs": [
        {
          "output_type": "execute_result",
          "data": {
            "text/plain": [
              "0.8219424460431655"
            ]
          },
          "metadata": {},
          "execution_count": 33
        }
      ]
    },
    {
      "cell_type": "markdown",
      "source": [
        "# ОБУЧЕНИЕ ТОЛЬКО НА ИМЕНАХ"
      ],
      "metadata": {
        "id": "FKV1c5JcnVqU"
      },
      "id": "FKV1c5JcnVqU"
    },
    {
      "cell_type": "code",
      "source": [
        "X2 = []\n",
        "y2 = []\n",
        "for index, row in agora_data_goods.iterrows():\n",
        "    tmp = row['name']\n",
        "    X2.append(tmp)\n",
        "    y2.append(row.reference_id)\n",
        "X2 = np.array(X2)\n",
        "y2 = np.array(y2)"
      ],
      "metadata": {
        "id": "-RIuPWijjLUw"
      },
      "id": "-RIuPWijjLUw",
      "execution_count": 7,
      "outputs": []
    },
    {
      "cell_type": "code",
      "execution_count": 8,
      "metadata": {
        "id": "A9bmshnRlT20"
      },
      "outputs": [],
      "source": [
        "from sklearn.model_selection import train_test_split\n",
        "X_train2, X_test2, y_train2, y_test2 = train_test_split(X2, y2, test_size = 0.2, random_state = 42)"
      ],
      "id": "A9bmshnRlT20"
    },
    {
      "cell_type": "code",
      "execution_count": 9,
      "metadata": {
        "id": "1f46iFNylT3S"
      },
      "outputs": [],
      "source": [
        "from sklearn.feature_extraction.text import TfidfVectorizer\n",
        "scaler = TfidfVectorizer()\n",
        "scaler.fit(X_train2)\n",
        "X_train_vec2 = scaler.transform(X_train2)\n",
        "X_test_vec2 = scaler.transform(X_test2)"
      ],
      "id": "1f46iFNylT3S"
    },
    {
      "cell_type": "code",
      "execution_count": 10,
      "metadata": {
        "colab": {
          "base_uri": "https://localhost:8080/"
        },
        "outputId": "a5068d33-c522-4313-ee1f-268b35ead5c0",
        "id": "-yF0viEzlT3T"
      },
      "outputs": [
        {
          "output_type": "execute_result",
          "data": {
            "text/plain": [
              "0.7949640287769785"
            ]
          },
          "metadata": {},
          "execution_count": 10
        }
      ],
      "source": [
        "from sklearn import neighbors\n",
        "from sklearn.metrics import accuracy_score\n",
        "\n",
        "neigh = neighbors.KNeighborsClassifier(n_neighbors=5, metric='cosine')\n",
        "neigh.fit(X_train_vec2, y_train2)\n",
        "ans = neigh.predict(X_test_vec2)\n",
        "\n",
        "accuracy_score(y_test2, ans)"
      ],
      "id": "-yF0viEzlT3T"
    },
    {
      "cell_type": "code",
      "execution_count": 11,
      "metadata": {
        "colab": {
          "base_uri": "https://localhost:8080/"
        },
        "outputId": "00a096f4-1928-457b-f6e3-0b19481d063b",
        "id": "zu_tN5R1lT3V"
      },
      "outputs": [
        {
          "output_type": "execute_result",
          "data": {
            "text/plain": [
              "0.8866906474820144"
            ]
          },
          "metadata": {},
          "execution_count": 11
        }
      ],
      "source": [
        "from sklearn.ensemble import RandomForestClassifier\n",
        "from sklearn.metrics import accuracy_score\n",
        "\n",
        "forest = RandomForestClassifier(n_estimators=700)\n",
        "forest.fit(X_train_vec2, y_train2)\n",
        "ans = forest.predict(X_test_vec2)\n",
        "\n",
        "accuracy_score(y_test2, ans)"
      ],
      "id": "zu_tN5R1lT3V"
    },
    {
      "cell_type": "code",
      "source": [
        "from sklearn.ensemble import ExtraTreesClassifier\n",
        "from sklearn.metrics import accuracy_score\n",
        "\n",
        "forest = ExtraTreesClassifier()\n",
        "forest.fit(X_train_vec2, y_train2)\n",
        "ans = forest.predict(X_test_vec2)\n",
        "\n",
        "accuracy_score(y_test2, ans)"
      ],
      "metadata": {
        "colab": {
          "base_uri": "https://localhost:8080/"
        },
        "id": "_kwDA-gNligL",
        "outputId": "68d5a572-b036-43ae-9f0c-916f16b6c0d3"
      },
      "id": "_kwDA-gNligL",
      "execution_count": 12,
      "outputs": [
        {
          "output_type": "execute_result",
          "data": {
            "text/plain": [
              "0.89568345323741"
            ]
          },
          "metadata": {},
          "execution_count": 12
        }
      ]
    },
    {
      "cell_type": "code",
      "source": [
        ""
      ],
      "metadata": {
        "id": "C3coaB6foWw7"
      },
      "id": "C3coaB6foWw7",
      "execution_count": null,
      "outputs": []
    }
  ],
  "metadata": {
    "kernelspec": {
      "display_name": "Python 3.10.2 64-bit (system)",
      "language": "python",
      "name": "python3"
    },
    "language_info": {
      "codemirror_mode": {
        "name": "ipython",
        "version": 3
      },
      "file_extension": ".py",
      "mimetype": "text/x-python",
      "name": "python",
      "nbconvert_exporter": "python",
      "pygments_lexer": "ipython3",
      "version": "3.10.2"
    },
    "vscode": {
      "interpreter": {
        "hash": "e9dbe3f95919c5c261a165e977916c35636caa884f033d5c7eaeced6efc7d3d7"
      }
    },
    "colab": {
      "name": "Agora_tfidf.ipynb",
      "provenance": [],
      "collapsed_sections": []
    },
    "accelerator": "GPU",
    "gpuClass": "standard"
  },
  "nbformat": 4,
  "nbformat_minor": 5
}